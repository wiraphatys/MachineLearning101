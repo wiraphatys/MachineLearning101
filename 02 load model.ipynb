{
 "cells": [
  {
   "cell_type": "code",
   "execution_count": 2,
   "metadata": {},
   "outputs": [],
   "source": [
    "import joblib\n",
    "import numpy as np\n",
    "\n",
    "model = joblib.load('my_model_1.pkl')"
   ]
  },
  {
   "cell_type": "code",
   "execution_count": 3,
   "metadata": {},
   "outputs": [
    {
     "data": {
      "text/plain": [
       "(array([[0.48848496]]), array([0.51549457]))"
      ]
     },
     "execution_count": 3,
     "metadata": {},
     "output_type": "execute_result"
    }
   ],
   "source": [
    "model.coef_ , model.intercept_"
   ]
  },
  {
   "cell_type": "code",
   "execution_count": 4,
   "metadata": {},
   "outputs": [
    {
     "data": {
      "text/plain": [
       "array([[1.49246448],\n",
       "       [1.73670696],\n",
       "       [1.98094944],\n",
       "       [2.95791935],\n",
       "       [3.93488926]])"
      ]
     },
     "execution_count": 4,
     "metadata": {},
     "output_type": "execute_result"
    }
   ],
   "source": [
    "x_input = [2.0,2.5, 3, 5.0, 7]\n",
    "x_input = np.array(x_input).reshape(-1,1)\n",
    "\n",
    "predict_result = model.predict(x_input)\n",
    "predict_result"
   ]
  },
  {
   "cell_type": "code",
   "execution_count": 5,
   "metadata": {},
   "outputs": [
    {
     "name": "stdout",
     "output_type": "stream",
     "text": [
      "x= [2.] , y= [1.49246448]\n",
      "x= [2.5] , y= [1.73670696]\n",
      "x= [3.] , y= [1.98094944]\n",
      "x= [5.] , y= [2.95791935]\n",
      "x= [7.] , y= [3.93488926]\n"
     ]
    }
   ],
   "source": [
    "for i, y in enumerate(predict_result):\n",
    "    print('x= {} , y= {}'.format(x_input[i], y))"
   ]
  }
 ],
 "metadata": {
  "kernelspec": {
   "display_name": "Python 3",
   "language": "python",
   "name": "python3"
  },
  "language_info": {
   "codemirror_mode": {
    "name": "ipython",
    "version": 3
   },
   "file_extension": ".py",
   "mimetype": "text/x-python",
   "name": "python",
   "nbconvert_exporter": "python",
   "pygments_lexer": "ipython3",
   "version": "3.11.3"
  },
  "orig_nbformat": 4
 },
 "nbformat": 4,
 "nbformat_minor": 2
}
